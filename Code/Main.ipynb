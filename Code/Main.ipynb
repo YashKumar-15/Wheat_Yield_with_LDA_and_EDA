{
  "cells": [
    {
      "cell_type": "markdown",
      "metadata": {
        "id": "WFwmW7-VUksn"
      },
      "source": [
        "# Wheat yield "
      ]
    },
    {
      "cell_type": "code",
      "execution_count": null,
      "metadata": {
        "id": "kkcz3AVsYQ2Q"
      },
      "outputs": [],
      "source": [
        "import numpy as np\n",
        "import math\n",
        "import matplotlib.pyplot as plt\n",
        "import pandas as pd\n",
        "from sklearn.discriminant_analysis import LinearDiscriminantAnalysis as LDA_Analysis\n",
        "from sklearn.preprocessing import LabelEncoder, StandardScaler\n",
        "from sklearn.model_selection import train_test_split\n",
        "Label_Encoder = LabelEncoder()\n",
        "from sklearn import metrics"
      ]
    },
    {
      "cell_type": "code",
      "execution_count": null,
      "metadata": {
        "id": "pSVRizgSRDpQ"
      },
      "outputs": [],
      "source": [
        "url = \"/content/yield_df.csv\"\n",
        "\n",
        "dataset = pd.read_csv(url)"
      ]
    },
    {
      "cell_type": "code",
      "execution_count": null,
      "metadata": {
        "colab": {
          "base_uri": "https://localhost:8080/",
          "height": 206
        },
        "id": "137M93dSRJwQ",
        "outputId": "5da528a7-4d93-40e9-b9af-e60b0cfcd536"
      },
      "outputs": [
        {
          "data": {
            "text/html": [
              "\n",
              "  <div id=\"df-2bb0fce2-a122-4675-a61b-799870439ddb\">\n",
              "    <div class=\"colab-df-container\">\n",
              "      <div>\n",
              "<style scoped>\n",
              "    .dataframe tbody tr th:only-of-type {\n",
              "        vertical-align: middle;\n",
              "    }\n",
              "\n",
              "    .dataframe tbody tr th {\n",
              "        vertical-align: top;\n",
              "    }\n",
              "\n",
              "    .dataframe thead th {\n",
              "        text-align: right;\n",
              "    }\n",
              "</style>\n",
              "<table border=\"1\" class=\"dataframe\">\n",
              "  <thead>\n",
              "    <tr style=\"text-align: right;\">\n",
              "      <th></th>\n",
              "      <th>Unnamed: 0</th>\n",
              "      <th>Area</th>\n",
              "      <th>Item</th>\n",
              "      <th>Year</th>\n",
              "      <th>hg/ha_yield</th>\n",
              "      <th>average_rain_fall_mm_per_year</th>\n",
              "      <th>pesticides_tonnes</th>\n",
              "      <th>avg_temp</th>\n",
              "    </tr>\n",
              "  </thead>\n",
              "  <tbody>\n",
              "    <tr>\n",
              "      <th>0</th>\n",
              "      <td>5</td>\n",
              "      <td>Albania</td>\n",
              "      <td>Wheat</td>\n",
              "      <td>1990</td>\n",
              "      <td>30197</td>\n",
              "      <td>1485.0</td>\n",
              "      <td>121.0</td>\n",
              "      <td>16.37</td>\n",
              "    </tr>\n",
              "    <tr>\n",
              "      <th>1</th>\n",
              "      <td>11</td>\n",
              "      <td>Albania</td>\n",
              "      <td>Wheat</td>\n",
              "      <td>1991</td>\n",
              "      <td>20698</td>\n",
              "      <td>1485.0</td>\n",
              "      <td>121.0</td>\n",
              "      <td>15.36</td>\n",
              "    </tr>\n",
              "    <tr>\n",
              "      <th>2</th>\n",
              "      <td>17</td>\n",
              "      <td>Albania</td>\n",
              "      <td>Wheat</td>\n",
              "      <td>1992</td>\n",
              "      <td>24388</td>\n",
              "      <td>1485.0</td>\n",
              "      <td>121.0</td>\n",
              "      <td>16.06</td>\n",
              "    </tr>\n",
              "    <tr>\n",
              "      <th>3</th>\n",
              "      <td>22</td>\n",
              "      <td>Albania</td>\n",
              "      <td>Wheat</td>\n",
              "      <td>1993</td>\n",
              "      <td>29976</td>\n",
              "      <td>1485.0</td>\n",
              "      <td>121.0</td>\n",
              "      <td>16.05</td>\n",
              "    </tr>\n",
              "    <tr>\n",
              "      <th>4</th>\n",
              "      <td>26</td>\n",
              "      <td>Albania</td>\n",
              "      <td>Wheat</td>\n",
              "      <td>1994</td>\n",
              "      <td>24745</td>\n",
              "      <td>1485.0</td>\n",
              "      <td>201.0</td>\n",
              "      <td>16.96</td>\n",
              "    </tr>\n",
              "  </tbody>\n",
              "</table>\n",
              "</div>\n",
              "      <button class=\"colab-df-convert\" onclick=\"convertToInteractive('df-2bb0fce2-a122-4675-a61b-799870439ddb')\"\n",
              "              title=\"Convert this dataframe to an interactive table.\"\n",
              "              style=\"display:none;\">\n",
              "        \n",
              "  <svg xmlns=\"http://www.w3.org/2000/svg\" height=\"24px\"viewBox=\"0 0 24 24\"\n",
              "       width=\"24px\">\n",
              "    <path d=\"M0 0h24v24H0V0z\" fill=\"none\"/>\n",
              "    <path d=\"M18.56 5.44l.94 2.06.94-2.06 2.06-.94-2.06-.94-.94-2.06-.94 2.06-2.06.94zm-11 1L8.5 8.5l.94-2.06 2.06-.94-2.06-.94L8.5 2.5l-.94 2.06-2.06.94zm10 10l.94 2.06.94-2.06 2.06-.94-2.06-.94-.94-2.06-.94 2.06-2.06.94z\"/><path d=\"M17.41 7.96l-1.37-1.37c-.4-.4-.92-.59-1.43-.59-.52 0-1.04.2-1.43.59L10.3 9.45l-7.72 7.72c-.78.78-.78 2.05 0 2.83L4 21.41c.39.39.9.59 1.41.59.51 0 1.02-.2 1.41-.59l7.78-7.78 2.81-2.81c.8-.78.8-2.07 0-2.86zM5.41 20L4 18.59l7.72-7.72 1.47 1.35L5.41 20z\"/>\n",
              "  </svg>\n",
              "      </button>\n",
              "      \n",
              "  <style>\n",
              "    .colab-df-container {\n",
              "      display:flex;\n",
              "      flex-wrap:wrap;\n",
              "      gap: 12px;\n",
              "    }\n",
              "\n",
              "    .colab-df-convert {\n",
              "      background-color: #E8F0FE;\n",
              "      border: none;\n",
              "      border-radius: 50%;\n",
              "      cursor: pointer;\n",
              "      display: none;\n",
              "      fill: #1967D2;\n",
              "      height: 32px;\n",
              "      padding: 0 0 0 0;\n",
              "      width: 32px;\n",
              "    }\n",
              "\n",
              "    .colab-df-convert:hover {\n",
              "      background-color: #E2EBFA;\n",
              "      box-shadow: 0px 1px 2px rgba(60, 64, 67, 0.3), 0px 1px 3px 1px rgba(60, 64, 67, 0.15);\n",
              "      fill: #174EA6;\n",
              "    }\n",
              "\n",
              "    [theme=dark] .colab-df-convert {\n",
              "      background-color: #3B4455;\n",
              "      fill: #D2E3FC;\n",
              "    }\n",
              "\n",
              "    [theme=dark] .colab-df-convert:hover {\n",
              "      background-color: #434B5C;\n",
              "      box-shadow: 0px 1px 3px 1px rgba(0, 0, 0, 0.15);\n",
              "      filter: drop-shadow(0px 1px 2px rgba(0, 0, 0, 0.3));\n",
              "      fill: #FFFFFF;\n",
              "    }\n",
              "  </style>\n",
              "\n",
              "      <script>\n",
              "        const buttonEl =\n",
              "          document.querySelector('#df-2bb0fce2-a122-4675-a61b-799870439ddb button.colab-df-convert');\n",
              "        buttonEl.style.display =\n",
              "          google.colab.kernel.accessAllowed ? 'block' : 'none';\n",
              "\n",
              "        async function convertToInteractive(key) {\n",
              "          const element = document.querySelector('#df-2bb0fce2-a122-4675-a61b-799870439ddb');\n",
              "          const dataTable =\n",
              "            await google.colab.kernel.invokeFunction('convertToInteractive',\n",
              "                                                     [key], {});\n",
              "          if (!dataTable) return;\n",
              "\n",
              "          const docLinkHtml = 'Like what you see? Visit the ' +\n",
              "            '<a target=\"_blank\" href=https://colab.research.google.com/notebooks/data_table.ipynb>data table notebook</a>'\n",
              "            + ' to learn more about interactive tables.';\n",
              "          element.innerHTML = '';\n",
              "          dataTable['output_type'] = 'display_data';\n",
              "          await google.colab.output.renderOutput(dataTable, element);\n",
              "          const docLink = document.createElement('div');\n",
              "          docLink.innerHTML = docLinkHtml;\n",
              "          element.appendChild(docLink);\n",
              "        }\n",
              "      </script>\n",
              "    </div>\n",
              "  </div>\n",
              "  "
            ],
            "text/plain": [
              "   Unnamed: 0     Area   Item  Year  hg/ha_yield  \\\n",
              "0           5  Albania  Wheat  1990        30197   \n",
              "1          11  Albania  Wheat  1991        20698   \n",
              "2          17  Albania  Wheat  1992        24388   \n",
              "3          22  Albania  Wheat  1993        29976   \n",
              "4          26  Albania  Wheat  1994        24745   \n",
              "\n",
              "   average_rain_fall_mm_per_year  pesticides_tonnes  avg_temp  \n",
              "0                         1485.0              121.0     16.37  \n",
              "1                         1485.0              121.0     15.36  \n",
              "2                         1485.0              121.0     16.06  \n",
              "3                         1485.0              121.0     16.05  \n",
              "4                         1485.0              201.0     16.96  "
            ]
          },
          "execution_count": 3,
          "metadata": {},
          "output_type": "execute_result"
        }
      ],
      "source": [
        "dataset.head()"
      ]
    },
    {
      "cell_type": "code",
      "execution_count": null,
      "metadata": {
        "colab": {
          "base_uri": "https://localhost:8080/"
        },
        "id": "NUZKSI_GTKJA",
        "outputId": "b3e9544e-cfde-43e5-fba8-2d124b1f5437"
      },
      "outputs": [
        {
          "data": {
            "text/plain": [
              "<bound method NDFrame._add_numeric_operations.<locals>.mean of 0       30197\n",
              "1       20698\n",
              "2       24388\n",
              "3       29976\n",
              "4       24745\n",
              "        ...  \n",
              "3852    30000\n",
              "3853    27681\n",
              "3854    26274\n",
              "3855    24420\n",
              "3856    22888\n",
              "Name: hg/ha_yield, Length: 3857, dtype: int64>"
            ]
          },
          "execution_count": 4,
          "metadata": {},
          "output_type": "execute_result"
        }
      ],
      "source": [
        "dataset['hg/ha_yield'].mean"
      ]
    },
    {
      "cell_type": "code",
      "execution_count": null,
      "metadata": {
        "id": "RwKOne5YSrND"
      },
      "outputs": [],
      "source": [
        "dataset = dataset.fillna({\n",
        "    'Year':1995,\n",
        "    'hg/ha_yield':30197,\n",
        "    'average_rain_fall_mm_per_year':1485.0,\n",
        "    'pesticides_tonnes':121.0,\n",
        "    'avg_temp':16.37\n",
        "})"
      ]
    },
    {
      "cell_type": "code",
      "execution_count": null,
      "metadata": {
        "colab": {
          "base_uri": "https://localhost:8080/",
          "height": 282
        },
        "id": "25FEWAXWQCuf",
        "outputId": "8883185c-72f7-447d-ea9d-d56457f3ebea"
      },
      "outputs": [
        {
          "data": {
            "text/plain": [
              "<matplotlib.collections.PathCollection at 0x7effe3741690>"
            ]
          },
          "execution_count": 6,
          "metadata": {},
          "output_type": "execute_result"
        },
        {
          "data": {
            "image/png": "[encoded data removed]",
            "text/plain": [
              "<Figure size 432x288 with 1 Axes>"
            ]
          },
          "metadata": {
            "needs_background": "light"
          },
          "output_type": "display_data"
        }
      ],
      "source": [
        "\n",
        "X = dataset.iloc[:, 5:8].values\n",
        "y = dataset.iloc[:, 4].values\n",
        "\n",
        "X_train, X_test, y_train, y_test = train_test_split(X, y, test_size=0.2)\n",
        "lda = LDA_Analysis(n_components=2)\n",
        "X_train = lda.fit_transform(X_train, y_train)\n",
        "X_test = lda.transform(X_test)\n",
        "\n",
        "plt.scatter(\n",
        "    X_train[:,0],X_train[:,1],c=y_train,cmap='rainbow',\n",
        "  alpha=0.7,edgecolors='b'\n",
        ")\n",
        "  "
      ]
    },
    {
      "cell_type": "code",
      "execution_count": null,
      "metadata": {
        "colab": {
          "base_uri": "https://localhost:8080/"
        },
        "id": "7JPDq2lAUclT",
        "outputId": "24fb7bea-e838-4747-ed09-5ea4dc0a477b"
      },
      "outputs": [
        {
          "name": "stdout",
          "output_type": "stream",
          "text": [
            "Accuracy : 0.025906735751295335\n",
            "[[0 0 0 ... 0 0 0]\n",
            " [0 0 0 ... 0 0 0]\n",
            " [0 0 0 ... 0 0 0]\n",
            " ...\n",
            " [0 0 0 ... 0 0 0]\n",
            " [0 0 0 ... 0 0 0]\n",
            " [0 0 0 ... 0 0 0]]\n"
          ]
        }
      ],
      "source": [
        "from sklearn.ensemble import RandomForestClassifier\n",
        "from sklearn.metrics import accuracy_score, confusion_matrix\n",
        "classifier = RandomForestClassifier(max_depth=2, random_state=0)\n",
        "classifier.fit(X_train, y_train)\n",
        "y_pred = classifier.predict(X_test)\n",
        "  \n",
        "print('Accuracy : ' + str(accuracy_score(y_test, y_pred)))\n",
        "conf_m = confusion_matrix(y_test, y_pred)\n",
        "print(conf_m)"
      ]
    },
    {
      "cell_type": "code",
      "execution_count": null,
      "metadata": {
        "colab": {
          "base_uri": "https://localhost:8080/"
        },
        "id": "Gnb6KO0bXocp",
        "outputId": "6ef0381b-4d5e-4072-dfa4-cb67cb6734c3"
      },
      "outputs": [
        {
          "data": {
            "text/plain": [
              "array([19699, 19699, 18209, 19699, 18209, 25590, 18209, 27621, 27621,\n",
              "       44871, 27621, 44871, 19488, 18209, 18209, 18209, 19488, 18209,\n",
              "       18209, 18209, 27621, 18209, 18209, 27621, 25590, 18209, 44871,\n",
              "       27621, 18209, 19488, 27621, 26789, 27621, 18209, 27621, 18209,\n",
              "       18209, 27621, 27621, 27621, 44871, 19488, 44871, 18209, 26789,\n",
              "       27621, 18209, 18209, 18209, 18209, 18209, 27621, 18209, 18209,\n",
              "       27621, 18209, 18209, 27621, 18209, 18209, 27621, 44871, 18209,\n",
              "       22199, 18209, 18209, 26789, 18209, 27621, 18209, 28288, 18209,\n",
              "       27621, 27621, 27621, 27621, 18209, 27621, 26789, 18209, 18209,\n",
              "       27621, 44871, 18209, 18209, 18209, 27621, 18209, 27621, 18209,\n",
              "       18209, 27621, 27621, 18209, 27621, 44871, 27621, 18209, 18209,\n",
              "       18209, 44871, 18209, 27621, 18209, 27621, 27621, 18209, 27621,\n",
              "       18209, 18209, 18209, 18209, 18209, 18209, 18209, 19699, 18209,\n",
              "       27621, 27621, 18209, 18209, 18209, 18209, 44871, 27621, 27621,\n",
              "       44871, 18209, 44871, 27621, 44871, 18209, 44871, 27621, 18209,\n",
              "       18209, 26789, 18209, 21211, 27621, 18209, 18209, 27621, 18209,\n",
              "       18209, 44871, 26789, 18209, 27621, 18209, 18209, 27621, 27621,\n",
              "       18209, 27621, 27621, 18209, 18209, 27621, 27621, 27621, 18209,\n",
              "       27621, 27621, 27621, 44871, 27621, 18209, 26789, 27621, 18209,\n",
              "       27621, 18209, 25590, 18209, 27621, 19488, 27621, 44871, 18209,\n",
              "       44871, 44871, 27621, 18209, 26789, 27621, 15927, 18209, 26789,\n",
              "       18209, 18209, 27621, 18209, 18209, 27621, 27621, 27621, 18209,\n",
              "       18209, 18209, 27621, 26789, 26789, 18209, 18209, 18209, 26789,\n",
              "       18209, 18209, 27621, 18209, 18209, 18209, 27621, 26789, 18209,\n",
              "       18209, 27621, 18209, 18209, 18209, 26789, 18209, 18209, 18209,\n",
              "       18209, 44871, 18209, 18209, 27621, 27621, 27621, 18209, 18209,\n",
              "       18209, 18209, 26789, 18209, 27621, 27621, 25590, 27621, 44871,\n",
              "       27621, 27621, 26789, 21211, 18209, 26789, 27621, 18209, 27621,\n",
              "       18209, 18209, 19488, 18209, 19488, 27621, 18334, 18209, 18209,\n",
              "       21211, 21211, 27621, 18209, 18209, 18209, 26789, 18209, 27621,\n",
              "       18209, 18209, 18209, 18209, 18209, 18209, 18209, 27621, 26789,\n",
              "       27621, 18209, 27621, 27621, 27621, 27621, 18209, 44871, 27491,\n",
              "       44871, 18209, 18209, 18209, 26789, 27621, 22199, 18209, 27621,\n",
              "       18209, 18209, 22199, 27621, 18209, 18209, 18209, 44871, 18209,\n",
              "       27621, 27621, 18209, 18209, 27621, 18209, 27621, 27621, 26602,\n",
              "       27621, 18209, 44871, 18209, 27621, 27621, 18209, 27621, 18209,\n",
              "       27621, 20802, 18209, 27621, 18209, 18209, 18209, 44871, 18209,\n",
              "       19488, 18209, 25590, 27621, 27621, 18209, 18209, 27621, 18209,\n",
              "       27621, 44871, 27621, 27621, 27621, 44871, 18209, 27621, 27621,\n",
              "       18209, 27621, 27621, 18209, 27621, 27621, 27621, 26789, 18209,\n",
              "       27621, 27621, 18209, 18209, 18209, 18209, 25590, 18209, 27621,\n",
              "       18209, 27621, 18209, 18209, 18209, 18209, 18209, 27621, 18209,\n",
              "       18209, 27621, 18209, 27621, 27621, 27621, 27621, 26789, 19699,\n",
              "       18209, 18209, 18334, 25497, 18209, 18209, 27621, 44871, 18209,\n",
              "       18209, 25590, 18209, 44871, 27621, 27621, 18209, 18209, 27621,\n",
              "       18209, 44871, 27621, 18209, 44871, 27621, 25590, 25590, 27621,\n",
              "       18209, 27621, 27621, 27621, 18209, 18209, 44871, 18209, 27621,\n",
              "       22199, 18209, 18209, 18209, 18209, 27621, 18209, 18209, 18209,\n",
              "       27621, 18209, 18209, 18209, 18209, 18209, 18209, 27621, 18209,\n",
              "       28288, 18209, 18209, 18209, 25590, 18209, 26789, 27621, 18209,\n",
              "       18209, 18209, 27621, 18209, 44871, 26789, 44871, 18209, 27621,\n",
              "       27621, 18209, 18209, 27621, 27621, 27621, 18209, 18209, 18209,\n",
              "       27621, 26789, 18209, 27621, 19699, 26789, 26789, 18209, 27621,\n",
              "       18209, 25590, 18209, 21211, 21211, 26789, 44871, 18209, 18209,\n",
              "       18209, 27621, 18209, 27621, 27621, 18209, 18209, 25497, 21211,\n",
              "       18209, 27621, 44871, 18209, 27621, 18209, 27621, 18209, 27621,\n",
              "       18209, 44871, 18209, 18209, 27621, 18209, 26789, 27621, 18209,\n",
              "       27621, 27621, 18209, 27621, 18209, 27621, 18209, 18209, 18209,\n",
              "       44871, 27621, 27621, 27621, 27621, 18209, 44871, 18209, 18209,\n",
              "       44871, 26789, 18209, 26789, 27621, 18334, 18209, 18209, 18209,\n",
              "       18209, 27621, 26789, 18209, 18209, 18209, 18209, 27621, 18209,\n",
              "       27621, 27621, 27621, 44871, 26789, 27621, 18209, 27621, 44871,\n",
              "       18209, 18209, 27621, 27621, 27621, 18209, 18209, 26789, 18209,\n",
              "       18209, 19699, 18209, 18209, 26789, 18209, 18209, 18209, 18209,\n",
              "       27621, 25590, 18209, 27621, 25590, 26789, 18209, 18209, 18209,\n",
              "       27621, 18209, 18209, 27621, 26789, 18209, 27621, 18209, 18209,\n",
              "       27621, 44871, 27491, 18209, 21211, 18209, 27621, 18209, 27621,\n",
              "       18209, 18209, 18334, 27621, 18209, 44871, 18209, 18209, 27621,\n",
              "       18209, 18209, 18209, 18209, 18209, 27621, 27621, 26789, 18334,\n",
              "       44871, 27621, 18209, 44871, 27621, 21211, 18209, 27621, 18209,\n",
              "       44871, 18209, 18209, 44871, 27621, 18209, 27621, 18209, 27621,\n",
              "       18209, 18209, 18209, 18209, 18209, 18209, 18209, 26789, 18209,\n",
              "       18209, 18209, 26789, 18209, 27621, 18209, 18209, 18209, 18209,\n",
              "       18209, 18209, 18209, 27621, 18209, 27621, 18209, 27621, 27621,\n",
              "       18209, 27621, 27621, 44871, 19699, 27621, 18209, 18209, 18209,\n",
              "       18209, 27621, 18209, 18209, 27621, 27621, 27621, 26789, 18209,\n",
              "       18209, 26789, 18209, 18209, 18334, 18209, 27621, 18209, 18209,\n",
              "       18209, 18209, 27621, 18209, 18209, 18209, 27621, 21211, 27621,\n",
              "       44871, 27621, 27621, 18209, 18209, 19488, 18209, 18209, 27621,\n",
              "       18209, 18209, 18209, 18209, 28288, 27621, 25590, 27621, 18209,\n",
              "       26789, 18209, 27621, 27621, 27621, 18209, 18209, 26789, 44871,\n",
              "       27621, 27621, 27621, 18209, 27621, 27621, 19488, 27621, 18209,\n",
              "       44871, 18209, 27621, 27621, 18209, 21211, 18209, 27621, 26789,\n",
              "       18209, 26789, 27621, 25590, 27621, 18209, 18209, 26789, 44871,\n",
              "       27621, 27621, 27621, 18209, 18209, 18209, 44871, 27621, 18209,\n",
              "       18209, 18209, 26789, 27621, 18209, 18209, 18209])"
            ]
          },
          "execution_count": 14,
          "metadata": {},
          "output_type": "execute_result"
        }
      ],
      "source": [
        "y_pred"
      ]
    },
    {
      "cell_type": "code",
      "execution_count": null,
      "metadata": {
        "colab": {
          "base_uri": "https://localhost:8080/"
        },
        "id": "Xw8TbNIgViuA",
        "outputId": "5bbb64ef-a992-4aef-d2be-55fa61e73625"
      },
      "outputs": [
        {
          "name": "stdout",
          "output_type": "stream",
          "text": [
            "Mean Absolute Error:  12334.757772020725\n",
            "Mean Squared Error:  332889894.05569947\n",
            "Root Mean Squared Error:  18245.270457181487\n"
          ]
        }
      ],
      "source": [
        "print('Mean Absolute Error: ',metrics.mean_absolute_error(y_test,y_pred))\n",
        "print('Mean Squared Error: ',metrics.mean_squared_error(y_test, y_pred))\n",
        "print('Root Mean Squared Error: ',math.sqrt(metrics.mean_squared_error(y_test, y_pred)))"
      ]
    },
    {
      "cell_type": "markdown",
      "metadata": {
        "id": "lsb1LyFxYL9F"
      },
      "source": [
        "#Graphs\n",
        "\n",
        "\n"
      ]
    },
    {
      "cell_type": "code",
      "execution_count": null,
      "metadata": {
        "colab": {
          "base_uri": "https://localhost:8080/",
          "height": 285
        },
        "id": "A-Sa1FkvU0gv",
        "outputId": "1d5f3434-c756-40d7-f354-49ee3309568a"
      },
      "outputs": [
        {
          "data": {
            "text/plain": [
              "<matplotlib.axes._subplots.AxesSubplot at 0x7f7a6dacb950>"
            ]
          },
          "execution_count": 45,
          "metadata": {},
          "output_type": "execute_result"
        },
        {
          "data": {
            "image/png": "[encoded data removed]",
            "text/plain": [
              "<Figure size 432x288 with 1 Axes>"
            ]
          },
          "metadata": {
            "needs_background": "light"
          },
          "output_type": "display_data"
        }
      ],
      "source": [
        "LDA_graph = pd.DataFrame({'Before_LDA':X_train[:,0].flatten(),'After_LDA':X_train[:,1].flatten()})\n",
        "\n",
        "\n",
        "LDA_graph = LDA_graph.head(30)\n",
        "LDA_graph.plot(kind='bar')"
      ]
    },
    {
      "cell_type": "code",
      "execution_count": null,
      "metadata": {
        "colab": {
          "base_uri": "https://localhost:8080/",
          "height": 282
        },
        "id": "yxDbOsq3XKvP",
        "outputId": "03234429-6e9c-4ef0-c640-3786a591c33f"
      },
      "outputs": [
        {
          "data": {
            "text/plain": [
              "<matplotlib.axes._subplots.AxesSubplot at 0x7f7a6d93fd90>"
            ]
          },
          "execution_count": 46,
          "metadata": {},
          "output_type": "execute_result"
        },
        {
          "data": {
            "image/png": "[encoded data removed]",
            "text/plain": [
              "<Figure size 432x288 with 1 Axes>"
            ]
          },
          "metadata": {
            "needs_background": "light"
          },
          "output_type": "display_data"
        }
      ],
      "source": [
        "LDA_graph_line = pd.DataFrame({'Before_LDA':X_train[:,0].flatten(),'After_LDA':X_train[:,1].flatten()})\n",
        "\n",
        "\n",
        "LDA_graph_line = LDA_graph_line.head(30)\n",
        "LDA_graph_line.plot(kind='line')"
      ]
    }
  ],
  "metadata": {
    "colab": {
      "authorship_tag": "ABX9TyNhQ9Z3/mKjgbaGr4ImYdUq",
      "collapsed_sections": [
        "lsb1LyFxYL9F"
      ],
      "provenance": []
    },
    "kernelspec": {
      "display_name": "Python 3",
      "name": "python3"
    },
    "language_info": {
      "name": "python"
    }
  },
  "nbformat": 4,
  "nbformat_minor": 0
}
